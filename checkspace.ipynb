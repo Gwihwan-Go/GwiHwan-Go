{
 "cells": [
  {
   "cell_type": "markdown",
   "metadata": {},
   "source": [
    "- - -\n",
    "\n",
    "# Section 1\n",
    "\n",
    "- - -"
   ]
  },
  {
   "attachments": {},
   "cell_type": "markdown",
   "metadata": {},
   "source": [
    "<h1><img src=\"https://emojis.slackmojis.com/emojis/images/1531849430/4246/blob-sunglasses.gif?1531849430\" width=\"30\"/> 안녕하세요! Hey! Nice to see you.</h1>\n",
    "\n",
    "\n",
    "<p> Welcome to my page! </br> I'm Gwihwan Go, an AI engineer <img src=\"https://img.icons8.com/external-flat-juicy-fish/60/000000/external-algorithm-data-science-flat-flat-juicy-fish.png\" width=\"20\"/>. I'm from <img src=\"https://img.icons8.com/office/40/000000/south-korea.png\" width=\"20\" /> <b>Seoul, South of Korea</b>, currently a first-year Ph.D student at  <b>  </b><img src=\"assets/THU_logo_revised.png\" width=\"160\" height=\"35\" align=\"middle\"/> <b>Tsinghua University </b>, advised by <a href='https://sites.google.com/site/jiangyu198964/home'>Prof. Yu Jiang</a>. I am proud to be a member of the Software System Security Assurance Group of <a href='http://www.wingtecher.com/homeen'>WingTecher Lab</a>. I received my B.S. degree in Software from Sungkyunkwan University, Korea, in Feb. 2023. My research interest is in the area of 🔥 utilizing DL, and testing DL systems🔥. I also enjoy piano, badminton, football, and basketball.</p>"
   ]
  },
  {
   "cell_type": "markdown",
   "metadata": {},
   "source": []
  },
  {
   "cell_type": "markdown",
   "metadata": {},
   "source": [
    "- - -\n",
    "\n",
    "# Section 2\n",
    "\n",
    "- - -"
   ]
  },
  {
   "cell_type": "markdown",
   "metadata": {},
   "source": [
    "\n",
    "\n",
    "<h3>Things I code with</h3>\n",
    "<p>\n",
    "\t<img alt=\"Python\" src=\"https://img.shields.io/badge/-Python-3776AB?style=flat-square&logo=python&logoColor=yellow\" /> \n",
    "\t<img alt=\"PyTorch\" src=\"https://img.shields.io/badge/-PyTorch-white?style=flat-square&logo=pytorch&logoColor=orrange\" />\n",
    "\t<img alt=\"C\" src=\"https://img.shields.io/badge/-C language-00599C?style=flat-square&logo=C&logoColor=black\" />\n",
    "\t<img alt=\"JavaScript\" src=\"https://img.shields.io/badge/-JavaScript-F7DF1E?style=flat-square&logo=JavaScript&logoColor=black\" />\n",
    "  <img alt=\"React\" src=\"https://img.shields.io/badge/-React-45b8d8?style=flat-square&logo=react&logoColor=white\" />\n",
    "  <img alt=\"git\" src=\"https://img.shields.io/badge/-Git-F05032?style=flat-square&logo=git&logoColor=white\" />\n",
    "  <img alt=\"English\" src=\"https://img.shields.io/badge/-English-white?style=flat-square&logo=Etsy&logoColor=blue\" />\n",
    "\t<img alt=\"Chinese\" src=\"https://img.shields.io/badge/-Chinese-990000?style=flat-square&logo=Archive of Our Own&logoColor=white\"/>\n",
    "\t<img alt=\"Korean\" src=\"https://img.shields.io/badge/-Korean-003459?style=flat-square&logo=Koa&logoColor=red\" />\n",
    "</p>\n",
    "\n",
    "<h3>Things I plan to learn about</h3>\n",
    "<p>\n",
    "\t<img alt=\"English\" src=\"https://img.shields.io/badge/-English-white?style=flat-square&logo=Etsy&logoColor=blue\" />\n",
    "\t<img alt=\"Linux\" src=\"https://img.shields.io/badge/-Linux-white?style=flat-square&logo=Linux&logoColor=FCC624\" />\n",
    "\t<img alt=\"Markdown\" src=\"https://img.shields.io/badge/-Markdown-000000?style=flat-square&logo=Markdown&logoColor=white\" />\n",
    " \t<img alt=\"Nodejs\" src=\"https://img.shields.io/badge/-Nodejs-43853d?style=flat-square&logo=Node.js&logoColor=white\" />\n",
    "  <img alt=\"Youtube\" src=\"https://img.shields.io/badge/-YouTube-white?style=flat-square&logo=YouTube&logoColor=FF0000\" /> \n",
    "</p>"
   ]
  },
  {
   "cell_type": "markdown",
   "metadata": {},
   "source": [
    "- - -\n",
    "\n",
    "# Section 3 Header (AutomateZone)\n",
    "\n",
    "- - -"
   ]
  },
  {
   "cell_type": "markdown",
   "metadata": {},
   "source": [
    "<h2><img src=\"https://emojipedia-us.s3.dualstack.us-west-1.amazonaws.com/thumbs/240/apple/237/fire_1f525.png\" width=\"20\" alt=\"new\" /><b> My Latest Posts</b><img src=\"https://emojipedia-us.s3.dualstack.us-west-1.amazonaws.com/thumbs/240/apple/237/fire_1f525.png\" width=\"20\" alt=\"new\" /></h2>"
   ]
  },
  {
   "cell_type": "markdown",
   "metadata": {},
   "source": [
    "- - -\n",
    "\n",
    "# Section 4 Header(AutomateZone)\n",
    "\n",
    "- - -"
   ]
  },
  {
   "cell_type": "markdown",
   "metadata": {},
   "source": [
    "<!-- \n",
    "Section 4 header\n",
    "-->\n",
    "\n",
    "<h3><b>🤟🏻 My Daily Life Posts</b></h3>\n",
    "<!-- \n",
    "Section 4 header\n",
    "-->"
   ]
  },
  {
   "cell_type": "markdown",
   "metadata": {},
   "source": [
    "- - -\n",
    "# Section 5\n",
    "- - -"
   ]
  },
  {
   "cell_type": "markdown",
   "metadata": {},
   "source": [
    "<h3>Where to find me</h3>\n",
    "<p><a href=\"https://github.com/Gwihwan-Go\" target=\"_blank\"><img alt=\"Github\" src=\"https://img.shields.io/badge/GitHub-%2312100E.svg?&style=for-the-badge&logo=Github&logoColor=white\" /></a> <a href=\"https://twitter.com/Gwihwan_Go\" target=\"_blank\"><img alt=\"Twitter\" src=\"https://img.shields.io/badge/twitter-%231DA1F2.svg?&style=for-the-badge&logo=twitter&logoColor=white\" /></a> <a href=\"https://www.linkedin.com/in/%EA%B7%80%ED%99%98-%EA%B3%A0-9687b323a/\" target=\"_blank\"><img alt=\"LinkedIn\" src=\"https://img.shields.io/badge/linkedin-%230077B5.svg?&style=for-the-badge&logo=linkedin&logoColor=white\" /></a> <a href=\"https://blog.naver.com/ie1914\" target=\"_blank\"><img src=\"https://drive.google.com/uc?export=view&id=1sNg_ePXtgP6i-FMQwqpyuGV_v5PLMqUx\" width=\"120\" height=\"28\"/></a>\n",
    " <a href=\"https://velog.io/@return_go\" target=\"_blank\"><img src=\"https://drive.google.com/uc?export=view&id=19f0ZaXBiA72-af7YW5sE84k6DLGbfnaP\" width=\"120\" height=\"28\"/></a>\n",
    "</p>\n",
    "\n",
    "\n"
   ]
  },
  {
   "cell_type": "markdown",
   "metadata": {},
   "source": [
    "- - -\n",
    "# Footer - automated\n",
    "- - -"
   ]
  },
  {
   "cell_type": "markdown",
   "metadata": {},
   "source": []
  },
  {
   "cell_type": "markdown",
   "metadata": {},
   "source": [
    "Experience\n",
    "\n",
    "💻 AI Intern Researcher in Data Science and Artificial Intelligence Lab (DSAIL)"
   ]
  },
  {
   "cell_type": "markdown",
   "metadata": {},
   "source": [
    "- - -\n",
    "# Footer\n",
    "- - -"
   ]
  },
  {
   "cell_type": "markdown",
   "metadata": {},
   "source": [
    "<p align=\"center\">This <i>README</i> file is built based on <a href=\"https://medium.com/@th.guibert/how-to-create-a-self-updating-readme-md-for-your-github-profile-f8b05744ca91\">HERE</a>\n",
    "</p>\n",
    "</br>Last refresh: Saturday, 1 Jun, 00:00 GMT +9<br /><a href=\"https://medium.com/@th.guibert/how-to-create-a-self-updating-readme-md-for-your-github-profile-f8b05744ca91\">Create your own here!</a></p>\n",
    "<p align=\"center\"><img src=\"https://github.com/thmsgbrt/thmsgbrt/workflows/README%20build/badge.svg\" /> "
   ]
  },
  {
   "cell_type": "markdown",
   "metadata": {},
   "source": [
    "<h3>My latest posts</h3>\n",
    "  <a href=\"https://medium.com/better-programming/create-your-first-ethereum-smart-contract-with-remix-ide-667e46e81901\"><b><img src=\"https://emojipedia-us.s3.dualstack.us-west-1.amazonaws.com/thumbs/240/apple/237/fire_1f525.png\" width=\"20\" alt=\"new\" /> Create Your First Ethereum Smart Contract With Remix IDE</b></a><br/><i>Build a Blockchain-powered chat from your browser!.</i></li>\n",
    "  <li><a href=\"https://medium.com/@th.guibert/how-to-create-a-self-updating-readme-md-for-your-github-profile-f8b05744ca91\"><b><img src=\"https://emojipedia-us.s3.dualstack.us-west-1.amazonaws.com/thumbs/240/apple/237/fire_1f525.png\" width=\"20\" alt=\"new\" /> How to Create a Self-Updating README.md for Your GitHub Profile</b></a><br/><i>A good tutorial to do your first steps with GitHub Actions</i></li>\n",
    "    <li><a href=\"https://medium.com/better-programming/how-you-should-structure-your-react-applications-e7dd32375a98\"><b><img src=\"https://emojipedia-us.s3.dualstack.us-west-1.amazonaws.com/thumbs/240/apple/237/fire_1f525.png\" width=\"20\" alt=\"new\" /> How You Should Structure Your React Applications</b></a><br/><i>A matter of taste, sure, but here is an approach that scales.</i></li>\n",
    "  <li><a href=\"https://medium.com/better-programming/pro-tips-to-help-you-get-started-with-your-side-project-15d01b76e0d8\"><b>Pro Tips to Help You Get Started With Your Side Project</b></a><br/><i>Begin with solid foundations to keep the excitement kicking in...</i></li>\n",
    "  <li><a href=\"https://medium.com/better-programming/how-to-take-care-of-your-personal-branding-as-a-programmer-2d3aeba56cb9\"><b>How to Take Care of Your Personal Branding as a Programmer</b></a><br/><i>It’s more than just refreshing your resume</i></li>\n",
    "  <li><a href=\"https://medium.com/better-programming/8-new-features-shipping-with-es2020-7a2721f710fb\"><b>7 New Features Shipping With ES2020</b></a><br/><i>GlobalThis, optional chaining, private fields in classes, the nullish coalescing operator, and more</i></li>\n",
    "<h3>Välkommen till <img src=\"https://cdn-icons-png.flaticon.com/512/197/197564.png\" width=\"13\"/> Stockholm!</h3>\n",
    "<p><img width=\"200\" src=\"https:&#x2F;&#x2F;cdn1.dumpor.com&#x2F;view?q&#x3D;%3D%3DwI90zdYRFTUhWSKd1VxAHe6xEUyV2QDV1bYJzMndVRxRlWZlzaXVTSFt2RkpENm52VuJHZDx0awYFcKdTSaZWdYNETCNzRzMnUiNFUmp1M2wWZjljUhlHN3tmcshjRRh2MrRlVTlHUzg3Z6VjbvV0a2gTRUhVRV12QygUSrp1d0NTQx4UTrVWYxpnRvRHMBxmcqB1MxEXU4ZUY0IWVztUbylzcUV2QMRlalFzKs9EViVnUrEVVxRjaLNDbIV0NxJUbnREZyl0Zjl2QwdjUsp1SwdWMOBVNyB1VKF1MrgVe0QnbFVVYxUlM5UmT6tUejBHd4BFM2VUehNTbGN3as1EURBjdaRDRZlXOBl0KXh1S6hTcGdETwE2T2VVO38Gb8xHTIBVN2R0U3dlTwtkMVJXVjlTbHhVWk1ESMp3ZMtGb5UDOpJFR21WZPVlY5ZjNXhmaUl0RiFlZEVEU3EjeBNFdWZlaNRTNvFjeZJVdTFEbWd3S3JVe0o2Qw1GMBpFch9ESMZXMSlUbWNlawVGTUNFM2o1U4d2V3JUZw8EOmp2S4RWWTNzUhNmQq5WWOVnTohXZw0Tcv0WYydWY0Nnbp1Sei1CZlR3cvh2Lt92YuIXao1WYydmLx4GZj9yL6MHc0RHa\" /> <img width=\"200\" src=\"https:&#x2F;&#x2F;cdn2.dumpor.com&#x2F;view?q&#x3D;jkleXhWTkpXVzNmUx4Gf8RDZ61ma0JlNRhmd0FmUkBTO5NGZjFFSLNWTyZ3aT1karQUONZUVJZ0SFlHT2YGUEFFNRNTTH90NMhkMIN2ZrUTTTF1QLhHeuVEejlza8xnWtREWzpHe4RnbN1GaKxGOtNnaBZUVyQlUHl0aahTOrEnQLpVbP9WcQVUO2FTTShTTPhkezl1RFR0ZJJFexdkMjFFeSt0NtRHSNxkbKRVWoNmNEtEN0o2S3IEVCVTYDBHdI9UMEB3YoB1a8x3Uy4kcvFDckl0KzYXVPtGR1w0Q1gTOZVETzlDS8xHUsl2SrMWSrQzKGlGNHt0NmNGdtRXSmNEOPplNDNmMyQXW2lVOipHcRxWMPV3RhVDVoF3KvV3NHRUWhdUSnNFZZ12dWNXUjhTdDhkWXF1MMhDNMtWaSBHO2hnaw4kbPZFZ1ZTNjVjeUtUeiNVYYV0T3EDREVVNsZ1b4QTNvFjeZJVdTFEbWd3S3JVe0o2Qw1GMBpFch9ESMZXMSlUbWNlawVGTUNFM2o1U4d2V3JUZw8EOmp2S4RWWTNzUhNmQq5WWOVnTohXZw0Tcv0WYydWY0Nnbp1Sei1CZlR3cvh2Lt92YuIXao1WYydmLx4GZj9yL6MHc0RHa\" /> <img width=\"200\" src=\"https:&#x2F;&#x2F;cdn2.dumpor.com&#x2F;view?q&#x3D;jkleXhWTkpXVzNmUx4Gf8RDZ61ma0hGf8NDaihTYSRGM5k3YkNWUYtSZjFHTSFmZYZ2R1dXRVNGcJFUeyBnWup2UtdET8x3YycVODZGf8VTalVFZWFTchRDRlVFbGFUM4hnMDh1c6hHe05WTthmSshTbzpWQGVlMUJ1RJtmW4kzKxJ0Sa12TvFHUFljdx0kU4kmY3BDcFdGZEd2bk90SFljdzR1TGBFVr5UTM5mSUlFajZDRLRzb6t0NCRlQ1E2QwRHSPFDRwNGaQtGf8NlMOJ3bxAHZJtyM2V1TrRUNMNUN4kTWFx0c5gEf8BFbpt0Kjl0K0siRpRzRLdjZjRXb0lkZDhzTaZzQjJjM0lldZljY6BXUsFzT1dUY1QFaxtyb1dzRElVYHl0ZTRWWtFEW192Y5E3KIlVZwglSzcHTrpmU1gzaORFMOxHfPhlYTFnNTRnaU9UZiF1YIBzT1EjeDpVOsV1brRTNvFjeZJVdTFEbWd3S3JVe0o2Qw1GMBpFch9ESMZXMSlUbWNlawVGTUNFM2o1U4d2V3JUZw8EOmp2S4RWWTNzUhNmQq5WWOVnTohXZw0Tcv0WYydWY0Nnbp1Sei1CZlR3cvh2Lt92YuIXao1WYydmLx4GZj9yL6MHc0RHa\" /></p>\n",
    "<p>Above are the last 3 pictures posted by <a href=\"https://www.instagram.com/visitstockholm/\" target=\"_blank\"><img src=\"https://upload.wikimedia.org/wikipedia/commons/thumb/e/e7/Instagram_logo_2016.svg/1024px-Instagram_logo_2016.svg.png\" width=\"20\"/> @visitstockholm!</a><br/>Currently, the weather is: <b> 10°C, <i>moderate rain</i></b></br>Today, the sun rises at <b>03:49</b> and sets at <b>21:40</b>.</p>\n",
    "\n",
    "\n",
    "------------\n",
    "<p align=\"center\">This <i>README</i> file is generated <b>every 3 hours</b>!</br>Last refresh: Saturday, 28 May, 17:07 CEST<br /><a href=\"https://medium.com/@th.guibert/how-to-create-a-self-updating-readme-md-for-your-github-profile-f8b05744ca91\">Create your own here!</a></p>\n",
    "<p align=\"center\"><img src=\"https://github.com/thmsgbrt/thmsgbrt/workflows/README%20build/badge.svg\" /> <img alt=\"Stars\" src=\"https://img.shields.io/github/stars/thmsgbrt/thmsgbrt?style=flat-square&labelColor=343b41\"/> <img alt=\"Forks\" src=\"https://img.shields.io/github/forks/thmsgbrt/thmsgbrt?style=flat-square&labelColor=343b41\"/></p>\n",
    "\n",
    "<!--\n",
    "**GwiHwan-Go/GwiHwan-Go** is a ✨ _special_ ✨ repository because its `README.md` (this file) appears on your GitHub profile.\n",
    "\n",
    "Here are some ideas to get you started:\n",
    "\n",
    "- 🔭 I’m currently working on ...\n",
    "- 🌱 I’m currently learning ...\n",
    "- 👯 I’m looking to collaborate on ...\n",
    "- 🤔 I’m looking for help with ...\n",
    "- 💬 Ask me about ...\n",
    "- 📫 How to reach me: ...\n",
    "- 😄 Pronouns: ...\n",
    "- ⚡ Fun fact: ...\n",
    "-->"
   ]
  }
 ],
 "metadata": {
  "interpreter": {
   "hash": "d4b10d77f063ea7c690ae79af4b47611cdf22b4ae6c3604143fe18c412509b5a"
  },
  "kernelspec": {
   "display_name": "Python 3.7.3 64-bit ('3.7.3')",
   "language": "python",
   "name": "python3"
  },
  "language_info": {
   "codemirror_mode": {
    "name": "ipython",
    "version": 3
   },
   "file_extension": ".py",
   "mimetype": "text/x-python",
   "name": "python",
   "nbconvert_exporter": "python",
   "pygments_lexer": "ipython3",
   "version": "3.7.3"
  },
  "orig_nbformat": 4
 },
 "nbformat": 4,
 "nbformat_minor": 2
}
